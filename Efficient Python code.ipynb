{
 "cells": [
  {
   "cell_type": "markdown",
   "id": "6d7ed051",
   "metadata": {},
   "source": [
    "# Writing efficient Python code\n",
    "\n",
    "- Explore how to write clean, fast and efficient Python code\n",
    "- How to profile your code for bottlenecks\n",
    "- How to eliminate bottle necks and bad design patterns\n"
   ]
  },
  {
   "cell_type": "code",
   "execution_count": 114,
   "id": "aa91c001",
   "metadata": {},
   "outputs": [],
   "source": [
    "import pandas as pd\n",
    "import numpy as np\n",
    "import time"
   ]
  },
  {
   "cell_type": "markdown",
   "id": "4d483b98",
   "metadata": {},
   "source": [
    "# Looping over lists (*Non-Pythonic* and *Pythonic*)\n",
    "## *Non-Pythonic* approach\n",
    "\n",
    "names = ['Jerry', 'Kramer', 'Elaine', 'George', 'Newman']\n",
    "\n",
    "Suppose you wanted to collect the names in the above list that have six letters or more. In other programming languages, the typical approach is to create an index variable (i), use i to iterate over the list, and use an if statement to collect the names with six letters or more:\n",
    "\n"
   ]
  },
  {
   "cell_type": "code",
   "execution_count": 115,
   "id": "3e591994",
   "metadata": {},
   "outputs": [
    {
     "name": "stdout",
     "output_type": "stream",
     "text": [
      "['Kramer', 'Elaine', 'George', 'Newman']\n",
      "Script took:  0.0004994869232177734 seconds to run\n"
     ]
    }
   ],
   "source": [
    "# Define the list of names\n",
    "names = ['Jerry', 'Kramer', 'Elaine', 'George', 'Newman']\n",
    "\n",
    "# Start timer\n",
    "start_time = time.time()\n",
    "\n",
    "# Print the list created using the Non-Pythonic approach\n",
    "i = 0\n",
    "new_list= []\n",
    "while i < len(names):\n",
    "    if len(names[i]) >= 6:\n",
    "        new_list.append(names[i])\n",
    "    i += 1\n",
    "    \n",
    "print(new_list)\n",
    "\n",
    "print('Script took: ', time.time() - start_time, 'seconds to run')"
   ]
  },
  {
   "cell_type": "markdown",
   "id": "262149f8",
   "metadata": {},
   "source": [
    "## *Pythonic* approach\n",
    "\n",
    "A more *Pythonic* approach would involve looping over the contents of *names* itself, rather than using an index variable"
   ]
  },
  {
   "cell_type": "code",
   "execution_count": 120,
   "id": "bf320806",
   "metadata": {},
   "outputs": [
    {
     "name": "stdout",
     "output_type": "stream",
     "text": [
      "['Kramer', 'Elaine', 'George', 'Newman']\n",
      "Script took:  0.0004990100860595703 seconds to run\n"
     ]
    }
   ],
   "source": [
    "# Start timer\n",
    "start_time = time.time()\n",
    "\n",
    "# Print the list created by looping over the contents of names\n",
    "better_list = []\n",
    "for name in names:\n",
    "    if len(name) >= 6:\n",
    "        better_list.append(name)\n",
    "print(better_list)\n",
    "\n",
    "print('Script took: ', time.time() - start_time, 'seconds to run')"
   ]
  },
  {
   "cell_type": "markdown",
   "id": "1602ca89",
   "metadata": {},
   "source": [
    "The *most Pythonic* approach would be to use list comprehension"
   ]
  },
  {
   "cell_type": "code",
   "execution_count": 127,
   "id": "6a47e7b3",
   "metadata": {},
   "outputs": [
    {
     "name": "stdout",
     "output_type": "stream",
     "text": [
      "['Kramer', 'Elaine', 'George', 'Newman']\n",
      "Script took:  0.0004994869232177734 seconds to run\n"
     ]
    }
   ],
   "source": [
    "# Start timer\n",
    "start_time = time.time()\n",
    "\n",
    "# Print the list created by using list comprehension\n",
    "best_list = [name for name in names if len(name) >= 6]\n",
    "print(best_list)\n",
    "\n",
    "print('Script took: ', time.time() - start_time, 'seconds to run')"
   ]
  },
  {
   "cell_type": "code",
   "execution_count": null,
   "id": "85c0a06e",
   "metadata": {},
   "outputs": [],
   "source": []
  },
  {
   "cell_type": "code",
   "execution_count": null,
   "id": "355c78d4",
   "metadata": {},
   "outputs": [],
   "source": []
  }
 ],
 "metadata": {
  "kernelspec": {
   "display_name": "Python 3",
   "language": "python",
   "name": "python3"
  },
  "language_info": {
   "codemirror_mode": {
    "name": "ipython",
    "version": 3
   },
   "file_extension": ".py",
   "mimetype": "text/x-python",
   "name": "python",
   "nbconvert_exporter": "python",
   "pygments_lexer": "ipython3",
   "version": "3.8.8"
  }
 },
 "nbformat": 4,
 "nbformat_minor": 5
}
