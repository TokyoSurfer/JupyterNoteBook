{
 "cells": [
  {
   "cell_type": "markdown",
   "id": "cf9fad41",
   "metadata": {},
   "source": [
    "# Writing efficient Python code\n",
    "\n",
    "- Explore how to write clean, fast and efficient Python code\n",
    "- How to profile your code for bottlenecks\n",
    "- How to eliminate bottle necks and bad design patterns\n"
   ]
  },
  {
   "cell_type": "code",
   "execution_count": 20,
   "id": "21c924a9",
   "metadata": {},
   "outputs": [],
   "source": [
    "import pandas as pd\n",
    "import numpy as np\n",
    "import time\n",
    "import this"
   ]
  },
  {
   "cell_type": "markdown",
   "id": "161f4ee3",
   "metadata": {},
   "source": [
    "# Looping over lists (*Non-Pythonic* and *Pythonic*)\n",
    "## *Non-Pythonic* approach\n",
    "\n",
    "names = ['Jerry', 'Kramer', 'Elaine', 'George', 'Newman']\n",
    "\n",
    "Suppose you wanted to collect the names in the above list that have six letters or more. In other programming languages, the typical approach is to create an index variable (i), use i to iterate over the list, and use an if statement to collect the names with six letters or more:\n",
    "\n"
   ]
  },
  {
   "cell_type": "code",
   "execution_count": 14,
   "id": "32863826",
   "metadata": {},
   "outputs": [
    {
     "name": "stdout",
     "output_type": "stream",
     "text": [
      "['Kramer', 'Elaine', 'George', 'Newman']\n",
      "Script took:  0.0004994869232177734 seconds to run\n"
     ]
    }
   ],
   "source": [
    "# Define the list of names\n",
    "names = ['Jerry', 'Kramer', 'Elaine', 'George', 'Newman']\n",
    "\n",
    "# Start timer\n",
    "start_time = time.time()\n",
    "\n",
    "# Print the list created using the Non-Pythonic approach\n",
    "i = 0\n",
    "new_list= []\n",
    "while i < len(names):\n",
    "    if len(names[i]) >= 6:\n",
    "        new_list.append(names[i])\n",
    "    i += 1\n",
    "    \n",
    "print(new_list)\n",
    "\n",
    "print('Script took: ', time.time() - start_time, 'seconds to run')"
   ]
  },
  {
   "cell_type": "markdown",
   "id": "51023135",
   "metadata": {},
   "source": [
    "## *Pythonic* approach\n",
    "\n",
    "A more *Pythonic* approach would involve looping over the contents of *names* itself, rather than using an index variable"
   ]
  },
  {
   "cell_type": "code",
   "execution_count": 15,
   "id": "70ee4a5a",
   "metadata": {},
   "outputs": [
    {
     "name": "stdout",
     "output_type": "stream",
     "text": [
      "['Kramer', 'Elaine', 'George', 'Newman']\n",
      "Script took:  0.0004987716674804688 seconds to run\n"
     ]
    }
   ],
   "source": [
    "# Start timer\n",
    "start_time = time.time()\n",
    "\n",
    "# Print the list created by looping over the contents of names\n",
    "better_list = []\n",
    "for name in names:\n",
    "    if len(name) >= 6:\n",
    "        better_list.append(name)\n",
    "print(better_list)\n",
    "\n",
    "print('Script took: ', time.time() - start_time, 'seconds to run')"
   ]
  },
  {
   "cell_type": "markdown",
   "id": "55ca2a76",
   "metadata": {},
   "source": [
    "The *most Pythonic* approach would be to use list comprehension"
   ]
  },
  {
   "cell_type": "code",
   "execution_count": 17,
   "id": "c8535efe",
   "metadata": {},
   "outputs": [
    {
     "name": "stdout",
     "output_type": "stream",
     "text": [
      "['Kramer', 'Elaine', 'George', 'Newman']\n",
      "Script took:  0.0004992485046386719 seconds to run\n"
     ]
    }
   ],
   "source": [
    "# Start timer\n",
    "start_time = time.time()\n",
    "\n",
    "# Print the list created by using list comprehension\n",
    "best_list = [name for name in names if len(name) >= 6]\n",
    "print(best_list)\n",
    "\n",
    "print('Script took: ', time.time() - start_time, 'seconds to run')"
   ]
  },
  {
   "cell_type": "code",
   "execution_count": 18,
   "id": "6472c810",
   "metadata": {},
   "outputs": [
    {
     "name": "stdout",
     "output_type": "stream",
     "text": [
      "The Zen of Python, by Tim Peters\n",
      "\n",
      "Beautiful is better than ugly.\n",
      "Explicit is better than implicit.\n",
      "Simple is better than complex.\n",
      "Complex is better than complicated.\n",
      "Flat is better than nested.\n",
      "Sparse is better than dense.\n",
      "Readability counts.\n",
      "Special cases aren't special enough to break the rules.\n",
      "Although practicality beats purity.\n",
      "Errors should never pass silently.\n",
      "Unless explicitly silenced.\n",
      "In the face of ambiguity, refuse the temptation to guess.\n",
      "There should be one-- and preferably only one --obvious way to do it.\n",
      "Although that way may not be obvious at first unless you're Dutch.\n",
      "Now is better than never.\n",
      "Although never is often better than *right* now.\n",
      "If the implementation is hard to explain, it's a bad idea.\n",
      "If the implementation is easy to explain, it may be a good idea.\n",
      "Namespaces are one honking great idea -- let's do more of those!\n"
     ]
    }
   ],
   "source": []
  }
 ],
 "metadata": {
  "kernelspec": {
   "display_name": "Python 3",
   "language": "python",
   "name": "python3"
  },
  "language_info": {
   "codemirror_mode": {
    "name": "ipython",
    "version": 3
   },
   "file_extension": ".py",
   "mimetype": "text/x-python",
   "name": "python",
   "nbconvert_exporter": "python",
   "pygments_lexer": "ipython3",
   "version": "3.8.8"
  }
 },
 "nbformat": 4,
 "nbformat_minor": 5
}
